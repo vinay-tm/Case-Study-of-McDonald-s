{
 "cells": [
  {
   "cell_type": "markdown",
   "id": "81b8c9fc",
   "metadata": {},
   "source": [
    "# importing important libraries"
   ]
  },
  {
   "cell_type": "code",
   "execution_count": 25,
   "id": "ef950abc",
   "metadata": {},
   "outputs": [],
   "source": [
    "import pandas as pd \n",
    "import numpy as np\n",
    "from sklearn.cluster import KMeans\n",
    "from sklearn.preprocessing import StandardScaler\n",
    "import matplotlib.pyplot as plt"
   ]
  },
  {
   "cell_type": "markdown",
   "id": "48d34014",
   "metadata": {},
   "source": [
    "# Exploring dataset"
   ]
  },
  {
   "cell_type": "code",
   "execution_count": 26,
   "id": "f219a841",
   "metadata": {},
   "outputs": [],
   "source": [
    "data = pd.read_csv('mcdonalds.csv')"
   ]
  },
  {
   "cell_type": "code",
   "execution_count": 27,
   "id": "8c0f9af2",
   "metadata": {},
   "outputs": [
    {
     "data": {
      "text/html": [
       "<div>\n",
       "<style scoped>\n",
       "    .dataframe tbody tr th:only-of-type {\n",
       "        vertical-align: middle;\n",
       "    }\n",
       "\n",
       "    .dataframe tbody tr th {\n",
       "        vertical-align: top;\n",
       "    }\n",
       "\n",
       "    .dataframe thead th {\n",
       "        text-align: right;\n",
       "    }\n",
       "</style>\n",
       "<table border=\"1\" class=\"dataframe\">\n",
       "  <thead>\n",
       "    <tr style=\"text-align: right;\">\n",
       "      <th></th>\n",
       "      <th>yummy</th>\n",
       "      <th>convenient</th>\n",
       "      <th>spicy</th>\n",
       "      <th>fattening</th>\n",
       "      <th>greasy</th>\n",
       "      <th>fast</th>\n",
       "      <th>cheap</th>\n",
       "      <th>tasty</th>\n",
       "      <th>expensive</th>\n",
       "      <th>healthy</th>\n",
       "      <th>disgusting</th>\n",
       "      <th>Like</th>\n",
       "      <th>Age</th>\n",
       "      <th>VisitFrequency</th>\n",
       "      <th>Gender</th>\n",
       "    </tr>\n",
       "  </thead>\n",
       "  <tbody>\n",
       "    <tr>\n",
       "      <th>0</th>\n",
       "      <td>No</td>\n",
       "      <td>Yes</td>\n",
       "      <td>No</td>\n",
       "      <td>Yes</td>\n",
       "      <td>No</td>\n",
       "      <td>Yes</td>\n",
       "      <td>Yes</td>\n",
       "      <td>No</td>\n",
       "      <td>Yes</td>\n",
       "      <td>No</td>\n",
       "      <td>No</td>\n",
       "      <td>-3</td>\n",
       "      <td>61</td>\n",
       "      <td>Every three months</td>\n",
       "      <td>Female</td>\n",
       "    </tr>\n",
       "    <tr>\n",
       "      <th>1</th>\n",
       "      <td>Yes</td>\n",
       "      <td>Yes</td>\n",
       "      <td>No</td>\n",
       "      <td>Yes</td>\n",
       "      <td>Yes</td>\n",
       "      <td>Yes</td>\n",
       "      <td>Yes</td>\n",
       "      <td>Yes</td>\n",
       "      <td>Yes</td>\n",
       "      <td>No</td>\n",
       "      <td>No</td>\n",
       "      <td>+2</td>\n",
       "      <td>51</td>\n",
       "      <td>Every three months</td>\n",
       "      <td>Female</td>\n",
       "    </tr>\n",
       "    <tr>\n",
       "      <th>2</th>\n",
       "      <td>No</td>\n",
       "      <td>Yes</td>\n",
       "      <td>Yes</td>\n",
       "      <td>Yes</td>\n",
       "      <td>Yes</td>\n",
       "      <td>Yes</td>\n",
       "      <td>No</td>\n",
       "      <td>Yes</td>\n",
       "      <td>Yes</td>\n",
       "      <td>Yes</td>\n",
       "      <td>No</td>\n",
       "      <td>+1</td>\n",
       "      <td>62</td>\n",
       "      <td>Every three months</td>\n",
       "      <td>Female</td>\n",
       "    </tr>\n",
       "    <tr>\n",
       "      <th>3</th>\n",
       "      <td>Yes</td>\n",
       "      <td>Yes</td>\n",
       "      <td>No</td>\n",
       "      <td>Yes</td>\n",
       "      <td>Yes</td>\n",
       "      <td>Yes</td>\n",
       "      <td>Yes</td>\n",
       "      <td>Yes</td>\n",
       "      <td>No</td>\n",
       "      <td>No</td>\n",
       "      <td>Yes</td>\n",
       "      <td>+4</td>\n",
       "      <td>69</td>\n",
       "      <td>Once a week</td>\n",
       "      <td>Female</td>\n",
       "    </tr>\n",
       "    <tr>\n",
       "      <th>4</th>\n",
       "      <td>No</td>\n",
       "      <td>Yes</td>\n",
       "      <td>No</td>\n",
       "      <td>Yes</td>\n",
       "      <td>Yes</td>\n",
       "      <td>Yes</td>\n",
       "      <td>Yes</td>\n",
       "      <td>No</td>\n",
       "      <td>No</td>\n",
       "      <td>Yes</td>\n",
       "      <td>No</td>\n",
       "      <td>+2</td>\n",
       "      <td>49</td>\n",
       "      <td>Once a month</td>\n",
       "      <td>Male</td>\n",
       "    </tr>\n",
       "  </tbody>\n",
       "</table>\n",
       "</div>"
      ],
      "text/plain": [
       "  yummy convenient spicy fattening greasy fast cheap tasty expensive healthy  \\\n",
       "0    No        Yes    No       Yes     No  Yes   Yes    No       Yes      No   \n",
       "1   Yes        Yes    No       Yes    Yes  Yes   Yes   Yes       Yes      No   \n",
       "2    No        Yes   Yes       Yes    Yes  Yes    No   Yes       Yes     Yes   \n",
       "3   Yes        Yes    No       Yes    Yes  Yes   Yes   Yes        No      No   \n",
       "4    No        Yes    No       Yes    Yes  Yes   Yes    No        No     Yes   \n",
       "\n",
       "  disgusting Like  Age      VisitFrequency  Gender  \n",
       "0         No   -3   61  Every three months  Female  \n",
       "1         No   +2   51  Every three months  Female  \n",
       "2         No   +1   62  Every three months  Female  \n",
       "3        Yes   +4   69         Once a week  Female  \n",
       "4         No   +2   49        Once a month    Male  "
      ]
     },
     "execution_count": 27,
     "metadata": {},
     "output_type": "execute_result"
    }
   ],
   "source": [
    "data.head()"
   ]
  },
  {
   "cell_type": "code",
   "execution_count": 28,
   "id": "52fa670a",
   "metadata": {},
   "outputs": [
    {
     "data": {
      "text/plain": [
       "Index(['yummy', 'convenient', 'spicy', 'fattening', 'greasy', 'fast', 'cheap',\n",
       "       'tasty', 'expensive', 'healthy', 'disgusting', 'Like', 'Age',\n",
       "       'VisitFrequency', 'Gender'],\n",
       "      dtype='object')"
      ]
     },
     "execution_count": 28,
     "metadata": {},
     "output_type": "execute_result"
    }
   ],
   "source": [
    "data.columns"
   ]
  },
  {
   "cell_type": "code",
   "execution_count": 29,
   "id": "9154edf1",
   "metadata": {},
   "outputs": [
    {
     "data": {
      "text/plain": [
       "(1453, 15)"
      ]
     },
     "execution_count": 29,
     "metadata": {},
     "output_type": "execute_result"
    }
   ],
   "source": [
    "mcdonalds_data.shape"
   ]
  },
  {
   "cell_type": "code",
   "execution_count": 30,
   "id": "2e425c85",
   "metadata": {},
   "outputs": [],
   "source": [
    "new_data = data.loc[:,'yummy':'disgusting']"
   ]
  },
  {
   "cell_type": "code",
   "execution_count": 31,
   "id": "eaf5a0bf",
   "metadata": {},
   "outputs": [],
   "source": [
    "def yesRno_to_num(data):\n",
    "    data = data.applymap(lambda x: 1 if x == 'Yes' else 0)\n",
    "    return data"
   ]
  },
  {
   "cell_type": "code",
   "execution_count": 33,
   "id": "70aabf68",
   "metadata": {},
   "outputs": [],
   "source": [
    "new_data = yesRno_to_num(new_data)"
   ]
  },
  {
   "cell_type": "code",
   "execution_count": 35,
   "id": "4acf63cb",
   "metadata": {},
   "outputs": [
    {
     "name": "stdout",
     "output_type": "stream",
     "text": [
      "<class 'pandas.core.frame.DataFrame'>\n",
      "RangeIndex: 1453 entries, 0 to 1452\n",
      "Data columns (total 11 columns):\n",
      " #   Column      Non-Null Count  Dtype\n",
      "---  ------      --------------  -----\n",
      " 0   yummy       1453 non-null   int64\n",
      " 1   convenient  1453 non-null   int64\n",
      " 2   spicy       1453 non-null   int64\n",
      " 3   fattening   1453 non-null   int64\n",
      " 4   greasy      1453 non-null   int64\n",
      " 5   fast        1453 non-null   int64\n",
      " 6   cheap       1453 non-null   int64\n",
      " 7   tasty       1453 non-null   int64\n",
      " 8   expensive   1453 non-null   int64\n",
      " 9   healthy     1453 non-null   int64\n",
      " 10  disgusting  1453 non-null   int64\n",
      "dtypes: int64(11)\n",
      "memory usage: 125.0 KB\n"
     ]
    }
   ],
   "source": [
    "new_data.info()"
   ]
  },
  {
   "cell_type": "code",
   "execution_count": 37,
   "id": "b12565b3",
   "metadata": {},
   "outputs": [
    {
     "data": {
      "text/plain": [
       "yummy         0.55\n",
       "convenient    0.91\n",
       "spicy         0.09\n",
       "fattening     0.87\n",
       "greasy        0.53\n",
       "fast          0.90\n",
       "cheap         0.60\n",
       "tasty         0.64\n",
       "expensive     0.36\n",
       "healthy       0.20\n",
       "disgusting    0.24\n",
       "dtype: float64"
      ]
     },
     "execution_count": 37,
     "metadata": {},
     "output_type": "execute_result"
    }
   ],
   "source": [
    "np.round(np.mean(new_data,axis=0),2)"
   ]
  },
  {
   "cell_type": "markdown",
   "id": "79c30ba5",
   "metadata": {},
   "source": [
    "# Feature selection for segmentation"
   ]
  },
  {
   "cell_type": "code",
   "execution_count": 38,
   "id": "65462748",
   "metadata": {},
   "outputs": [],
   "source": [
    "selected_features = ['Age', 'VisitFrequency', 'Gender']\n"
   ]
  },
  {
   "cell_type": "markdown",
   "id": "cbbf35a1",
   "metadata": {},
   "source": [
    "# Handling missing values"
   ]
  },
  {
   "cell_type": "code",
   "execution_count": 39,
   "id": "5300d016",
   "metadata": {},
   "outputs": [],
   "source": [
    "selected_data = data[selected_features].dropna()\n"
   ]
  },
  {
   "cell_type": "code",
   "execution_count": 40,
   "id": "e984d4f6",
   "metadata": {},
   "outputs": [],
   "source": [
    "frequency_mapping = {\n",
    "    'Never': 0,\n",
    "    'Once a year': 1,\n",
    "    'Every three months': 2,\n",
    "    'Once a month': 3,\n",
    "    'Once a week': 4,\n",
    "    'More than once a week': 5\n",
    "}\n",
    "selected_data['VisitFrequency'] = selected_data['VisitFrequency'].map(frequency_mapping)\n"
   ]
  },
  {
   "cell_type": "markdown",
   "id": "15fb8f5f",
   "metadata": {},
   "source": [
    "# converting categprical data to numerical data"
   ]
  },
  {
   "cell_type": "code",
   "execution_count": 41,
   "id": "9bc1656e",
   "metadata": {},
   "outputs": [],
   "source": [
    " selected_data = pd.get_dummies(selected_data)"
   ]
  },
  {
   "cell_type": "code",
   "execution_count": 42,
   "id": "35e16cee",
   "metadata": {},
   "outputs": [],
   "source": [
    "# Standardize the features to have zero mean and unit variance\n",
    "scaler = StandardScaler()\n",
    "scaled_data = scaler.fit_transform(selected_data)"
   ]
  },
  {
   "cell_type": "markdown",
   "id": "e21c46c4",
   "metadata": {},
   "source": [
    "# Applying K mean clustering"
   ]
  },
  {
   "cell_type": "code",
   "execution_count": 43,
   "id": "b172b89e",
   "metadata": {},
   "outputs": [
    {
     "name": "stderr",
     "output_type": "stream",
     "text": [
      "C:\\Users\\ASUS\\conda\\Lib\\site-packages\\sklearn\\cluster\\_kmeans.py:1412: FutureWarning: The default value of `n_init` will change from 10 to 'auto' in 1.4. Set the value of `n_init` explicitly to suppress the warning\n",
      "  super()._check_params_vs_input(X, default_n_init=10)\n"
     ]
    }
   ],
   "source": [
    "k = 3\n",
    "kmeans = KMeans(n_clusters=k, random_state=42)\n",
    "cluster_labels = kmeans.fit_predict(scaled_data)"
   ]
  },
  {
   "cell_type": "code",
   "execution_count": 44,
   "id": "580618bc",
   "metadata": {},
   "outputs": [],
   "source": [
    "selected_data['Cluster'] = cluster_labels"
   ]
  },
  {
   "cell_type": "code",
   "execution_count": 45,
   "id": "88448214",
   "metadata": {},
   "outputs": [
    {
     "name": "stdout",
     "output_type": "stream",
     "text": [
      "Cluster centroids:\n",
      "Cluster 1: Age=56.26, VisitFrequency=1.68\n",
      "Cluster 2: Age=44.30, VisitFrequency=2.43\n",
      "Cluster 3: Age=33.47, VisitFrequency=3.01\n"
     ]
    }
   ],
   "source": [
    "print(\"Cluster centroids:\")\n",
    "centroids = scaler.inverse_transform(kmeans.cluster_centers_)\n",
    "for i, centroid in enumerate(centroids):\n",
    "    print(f\"Cluster {i + 1}: Age={centroid[0]:.2f}, VisitFrequency={centroid[1]:.2f}\")"
   ]
  },
  {
   "cell_type": "code",
   "execution_count": 46,
   "id": "45168a0c",
   "metadata": {},
   "outputs": [
    {
     "data": {
      "text/plain": [
       "<Figure size 1000x600 with 0 Axes>"
      ]
     },
     "metadata": {},
     "output_type": "display_data"
    },
    {
     "data": {
      "image/png": "[encoded data removed]",
      "text/plain": [
       "<Figure size 640x480 with 1 Axes>"
      ]
     },
     "metadata": {},
     "output_type": "display_data"
    }
   ],
   "source": [
    "cluster_summary = selected_data.groupby('Cluster').mean()\n",
    "\n",
    "#make bar plot\n",
    "plt.figure(figsize=(10, 6))\n",
    "cluster_summary.plot(kind='bar')\n",
    "plt.title('Mean Values of Features for Each Cluster')\n",
    "plt.xlabel('Cluster')\n",
    "plt.ylabel('Mean Value')\n",
    "plt.xticks(rotation=0)\n",
    "plt.legend(title='Feature', loc='upper right')\n",
    "plt.grid(axis='y')\n",
    "plt.tight_layout()\n",
    "plt.show()"
   ]
  },
  {
   "cell_type": "code",
   "execution_count": 47,
   "id": "5d12b91f",
   "metadata": {},
   "outputs": [],
   "source": [
    "cluster_summary = selected_data.groupby('Cluster')[['Age', 'VisitFrequency']].sum()"
   ]
  },
  {
   "cell_type": "code",
   "execution_count": 48,
   "id": "5a6f56d7",
   "metadata": {
    "scrolled": true
   },
   "outputs": [
    {
     "data": {
      "image/png": "[encoded data removed]",
      "text/plain": [
       "<Figure size 1500x500 with 3 Axes>"
      ]
     },
     "metadata": {},
     "output_type": "display_data"
    }
   ],
   "source": [
    "fig, axes = plt.subplots(1, k, figsize=(15, 5))\n",
    "for i, ax in enumerate(axes):\n",
    "    ax.pie(cluster_summary.loc[i], labels=cluster_summary.columns, autopct='%1.1f%%', startangle=90)\n",
    "    ax.set_title(f'Cluster {i+1}')\n",
    "\n",
    "plt.suptitle('Sum of Age and Visit Frequency in Each Cluster', fontsize=16)\n",
    "plt.tight_layout()\n",
    "plt.show()"
   ]
  },
  {
   "cell_type": "code",
   "execution_count": 49,
   "id": "c0e0b3c0",
   "metadata": {},
   "outputs": [
    {
     "name": "stdout",
     "output_type": "stream",
     "text": [
      "\n",
      "Cluster summary:\n",
      "               Age  VisitFrequency  Gender_Female  Gender_Male\n",
      "Cluster                                                       \n",
      "0        56.258883        1.675127            1.0          0.0\n",
      "1        44.297744        2.433083            0.0          1.0\n",
      "2        33.469543        3.007614            1.0          0.0\n"
     ]
    }
   ],
   "source": [
    "cluster_summary = selected_data.groupby('Cluster').mean()\n",
    "print(\"\\nCluster summary:\")\n",
    "print(cluster_summary)"
   ]
  },
  {
   "cell_type": "code",
   "execution_count": null,
   "id": "3eb94964",
   "metadata": {},
   "outputs": [],
   "source": []
  }
 ],
 "metadata": {
  "kernelspec": {
   "display_name": "Python 3 (ipykernel)",
   "language": "python",
   "name": "python3"
  },
  "language_info": {
   "codemirror_mode": {
    "name": "ipython",
    "version": 3
   },
   "file_extension": ".py",
   "mimetype": "text/x-python",
   "name": "python",
   "nbconvert_exporter": "python",
   "pygments_lexer": "ipython3",
   "version": "3.11.4"
  }
 },
 "nbformat": 4,
 "nbformat_minor": 5
}
