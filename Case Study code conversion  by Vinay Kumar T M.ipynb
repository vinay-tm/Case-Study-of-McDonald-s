{
 "cells": [
  {
   "cell_type": "code",
   "execution_count": 9,
   "id": "7372f700",
   "metadata": {},
   "outputs": [],
   "source": [
    "import pandas as pd \n",
    "import numpy as np\n",
    "import matplotlib.pyplot as plt"
   ]
  },
  {
   "cell_type": "markdown",
   "id": "09fc9bdc",
   "metadata": {},
   "source": [
    "# Exploring Data"
   ]
  },
  {
   "cell_type": "code",
   "execution_count": 11,
   "id": "9bf355e9",
   "metadata": {},
   "outputs": [],
   "source": [
    "df = pd.read_csv(r\"D:\\McDonalds Case Study\\McDonalds Case Study\\mcdonalds.csv\")"
   ]
  },
  {
   "cell_type": "code",
   "execution_count": 12,
   "id": "859f5293",
   "metadata": {},
   "outputs": [
    {
     "data": {
      "text/plain": [
       "Index(['yummy', 'convenient', 'spicy', 'fattening', 'greasy', 'fast', 'cheap',\n",
       "       'tasty', 'expensive', 'healthy', 'disgusting', 'Like', 'Age',\n",
       "       'VisitFrequency', 'Gender'],\n",
       "      dtype='object')"
      ]
     },
     "execution_count": 12,
     "metadata": {},
     "output_type": "execute_result"
    }
   ],
   "source": [
    "df.columns"
   ]
  },
  {
   "cell_type": "code",
   "execution_count": 13,
   "id": "82798a7f",
   "metadata": {},
   "outputs": [
    {
     "data": {
      "text/plain": [
       "(1453, 15)"
      ]
     },
     "execution_count": 13,
     "metadata": {},
     "output_type": "execute_result"
    }
   ],
   "source": [
    "df.shape"
   ]
  },
  {
   "cell_type": "code",
   "execution_count": 14,
   "id": "1539937f",
   "metadata": {},
   "outputs": [
    {
     "data": {
      "text/html": [
       "<div>\n",
       "<style scoped>\n",
       "    .dataframe tbody tr th:only-of-type {\n",
       "        vertical-align: middle;\n",
       "    }\n",
       "\n",
       "    .dataframe tbody tr th {\n",
       "        vertical-align: top;\n",
       "    }\n",
       "\n",
       "    .dataframe thead th {\n",
       "        text-align: right;\n",
       "    }\n",
       "</style>\n",
       "<table border=\"1\" class=\"dataframe\">\n",
       "  <thead>\n",
       "    <tr style=\"text-align: right;\">\n",
       "      <th></th>\n",
       "      <th>yummy</th>\n",
       "      <th>convenient</th>\n",
       "      <th>spicy</th>\n",
       "      <th>fattening</th>\n",
       "      <th>greasy</th>\n",
       "      <th>fast</th>\n",
       "      <th>cheap</th>\n",
       "      <th>tasty</th>\n",
       "      <th>expensive</th>\n",
       "      <th>healthy</th>\n",
       "      <th>disgusting</th>\n",
       "      <th>Like</th>\n",
       "      <th>Age</th>\n",
       "      <th>VisitFrequency</th>\n",
       "      <th>Gender</th>\n",
       "    </tr>\n",
       "  </thead>\n",
       "  <tbody>\n",
       "    <tr>\n",
       "      <th>0</th>\n",
       "      <td>No</td>\n",
       "      <td>Yes</td>\n",
       "      <td>No</td>\n",
       "      <td>Yes</td>\n",
       "      <td>No</td>\n",
       "      <td>Yes</td>\n",
       "      <td>Yes</td>\n",
       "      <td>No</td>\n",
       "      <td>Yes</td>\n",
       "      <td>No</td>\n",
       "      <td>No</td>\n",
       "      <td>-3</td>\n",
       "      <td>61</td>\n",
       "      <td>Every three months</td>\n",
       "      <td>Female</td>\n",
       "    </tr>\n",
       "    <tr>\n",
       "      <th>1</th>\n",
       "      <td>Yes</td>\n",
       "      <td>Yes</td>\n",
       "      <td>No</td>\n",
       "      <td>Yes</td>\n",
       "      <td>Yes</td>\n",
       "      <td>Yes</td>\n",
       "      <td>Yes</td>\n",
       "      <td>Yes</td>\n",
       "      <td>Yes</td>\n",
       "      <td>No</td>\n",
       "      <td>No</td>\n",
       "      <td>+2</td>\n",
       "      <td>51</td>\n",
       "      <td>Every three months</td>\n",
       "      <td>Female</td>\n",
       "    </tr>\n",
       "    <tr>\n",
       "      <th>2</th>\n",
       "      <td>No</td>\n",
       "      <td>Yes</td>\n",
       "      <td>Yes</td>\n",
       "      <td>Yes</td>\n",
       "      <td>Yes</td>\n",
       "      <td>Yes</td>\n",
       "      <td>No</td>\n",
       "      <td>Yes</td>\n",
       "      <td>Yes</td>\n",
       "      <td>Yes</td>\n",
       "      <td>No</td>\n",
       "      <td>+1</td>\n",
       "      <td>62</td>\n",
       "      <td>Every three months</td>\n",
       "      <td>Female</td>\n",
       "    </tr>\n",
       "    <tr>\n",
       "      <th>3</th>\n",
       "      <td>Yes</td>\n",
       "      <td>Yes</td>\n",
       "      <td>No</td>\n",
       "      <td>Yes</td>\n",
       "      <td>Yes</td>\n",
       "      <td>Yes</td>\n",
       "      <td>Yes</td>\n",
       "      <td>Yes</td>\n",
       "      <td>No</td>\n",
       "      <td>No</td>\n",
       "      <td>Yes</td>\n",
       "      <td>+4</td>\n",
       "      <td>69</td>\n",
       "      <td>Once a week</td>\n",
       "      <td>Female</td>\n",
       "    </tr>\n",
       "    <tr>\n",
       "      <th>4</th>\n",
       "      <td>No</td>\n",
       "      <td>Yes</td>\n",
       "      <td>No</td>\n",
       "      <td>Yes</td>\n",
       "      <td>Yes</td>\n",
       "      <td>Yes</td>\n",
       "      <td>Yes</td>\n",
       "      <td>No</td>\n",
       "      <td>No</td>\n",
       "      <td>Yes</td>\n",
       "      <td>No</td>\n",
       "      <td>+2</td>\n",
       "      <td>49</td>\n",
       "      <td>Once a month</td>\n",
       "      <td>Male</td>\n",
       "    </tr>\n",
       "  </tbody>\n",
       "</table>\n",
       "</div>"
      ],
      "text/plain": [
       "  yummy convenient spicy fattening greasy fast cheap tasty expensive healthy  \\\n",
       "0    No        Yes    No       Yes     No  Yes   Yes    No       Yes      No   \n",
       "1   Yes        Yes    No       Yes    Yes  Yes   Yes   Yes       Yes      No   \n",
       "2    No        Yes   Yes       Yes    Yes  Yes    No   Yes       Yes     Yes   \n",
       "3   Yes        Yes    No       Yes    Yes  Yes   Yes   Yes        No      No   \n",
       "4    No        Yes    No       Yes    Yes  Yes   Yes    No        No     Yes   \n",
       "\n",
       "  disgusting Like  Age      VisitFrequency  Gender  \n",
       "0         No   -3   61  Every three months  Female  \n",
       "1         No   +2   51  Every three months  Female  \n",
       "2         No   +1   62  Every three months  Female  \n",
       "3        Yes   +4   69         Once a week  Female  \n",
       "4         No   +2   49        Once a month    Male  "
      ]
     },
     "execution_count": 14,
     "metadata": {},
     "output_type": "execute_result"
    }
   ],
   "source": [
    "df.head()"
   ]
  },
  {
   "cell_type": "code",
   "execution_count": 15,
   "id": "417d25ee",
   "metadata": {},
   "outputs": [],
   "source": [
    "new_df = df.loc[:,'yummy':'disgusting']"
   ]
  },
  {
   "cell_type": "code",
   "execution_count": 16,
   "id": "8122f63b",
   "metadata": {},
   "outputs": [],
   "source": [
    "def yesRno_to_num(data):\n",
    "    data = data.applymap(lambda x: 1 if x == 'Yes' else 0)\n",
    "    return data\n"
   ]
  },
  {
   "cell_type": "code",
   "execution_count": 17,
   "id": "054cb9e4",
   "metadata": {},
   "outputs": [
    {
     "name": "stderr",
     "output_type": "stream",
     "text": [
      "C:\\Users\\vk100\\AppData\\Local\\Temp\\ipykernel_3208\\1990023092.py:2: FutureWarning: DataFrame.applymap has been deprecated. Use DataFrame.map instead.\n",
      "  data = data.applymap(lambda x: 1 if x == 'Yes' else 0)\n"
     ]
    }
   ],
   "source": [
    "new_df = yesRno_to_num(new_df)"
   ]
  },
  {
   "cell_type": "code",
   "execution_count": 18,
   "id": "30569c1d",
   "metadata": {},
   "outputs": [
    {
     "data": {
      "text/html": [
       "<div>\n",
       "<style scoped>\n",
       "    .dataframe tbody tr th:only-of-type {\n",
       "        vertical-align: middle;\n",
       "    }\n",
       "\n",
       "    .dataframe tbody tr th {\n",
       "        vertical-align: top;\n",
       "    }\n",
       "\n",
       "    .dataframe thead th {\n",
       "        text-align: right;\n",
       "    }\n",
       "</style>\n",
       "<table border=\"1\" class=\"dataframe\">\n",
       "  <thead>\n",
       "    <tr style=\"text-align: right;\">\n",
       "      <th></th>\n",
       "      <th>yummy</th>\n",
       "      <th>convenient</th>\n",
       "      <th>spicy</th>\n",
       "      <th>fattening</th>\n",
       "      <th>greasy</th>\n",
       "      <th>fast</th>\n",
       "      <th>cheap</th>\n",
       "      <th>tasty</th>\n",
       "      <th>expensive</th>\n",
       "      <th>healthy</th>\n",
       "      <th>disgusting</th>\n",
       "    </tr>\n",
       "  </thead>\n",
       "  <tbody>\n",
       "    <tr>\n",
       "      <th>0</th>\n",
       "      <td>0</td>\n",
       "      <td>1</td>\n",
       "      <td>0</td>\n",
       "      <td>1</td>\n",
       "      <td>0</td>\n",
       "      <td>1</td>\n",
       "      <td>1</td>\n",
       "      <td>0</td>\n",
       "      <td>1</td>\n",
       "      <td>0</td>\n",
       "      <td>0</td>\n",
       "    </tr>\n",
       "    <tr>\n",
       "      <th>1</th>\n",
       "      <td>1</td>\n",
       "      <td>1</td>\n",
       "      <td>0</td>\n",
       "      <td>1</td>\n",
       "      <td>1</td>\n",
       "      <td>1</td>\n",
       "      <td>1</td>\n",
       "      <td>1</td>\n",
       "      <td>1</td>\n",
       "      <td>0</td>\n",
       "      <td>0</td>\n",
       "    </tr>\n",
       "    <tr>\n",
       "      <th>2</th>\n",
       "      <td>0</td>\n",
       "      <td>1</td>\n",
       "      <td>1</td>\n",
       "      <td>1</td>\n",
       "      <td>1</td>\n",
       "      <td>1</td>\n",
       "      <td>0</td>\n",
       "      <td>1</td>\n",
       "      <td>1</td>\n",
       "      <td>1</td>\n",
       "      <td>0</td>\n",
       "    </tr>\n",
       "    <tr>\n",
       "      <th>3</th>\n",
       "      <td>1</td>\n",
       "      <td>1</td>\n",
       "      <td>0</td>\n",
       "      <td>1</td>\n",
       "      <td>1</td>\n",
       "      <td>1</td>\n",
       "      <td>1</td>\n",
       "      <td>1</td>\n",
       "      <td>0</td>\n",
       "      <td>0</td>\n",
       "      <td>1</td>\n",
       "    </tr>\n",
       "    <tr>\n",
       "      <th>4</th>\n",
       "      <td>0</td>\n",
       "      <td>1</td>\n",
       "      <td>0</td>\n",
       "      <td>1</td>\n",
       "      <td>1</td>\n",
       "      <td>1</td>\n",
       "      <td>1</td>\n",
       "      <td>0</td>\n",
       "      <td>0</td>\n",
       "      <td>1</td>\n",
       "      <td>0</td>\n",
       "    </tr>\n",
       "    <tr>\n",
       "      <th>...</th>\n",
       "      <td>...</td>\n",
       "      <td>...</td>\n",
       "      <td>...</td>\n",
       "      <td>...</td>\n",
       "      <td>...</td>\n",
       "      <td>...</td>\n",
       "      <td>...</td>\n",
       "      <td>...</td>\n",
       "      <td>...</td>\n",
       "      <td>...</td>\n",
       "      <td>...</td>\n",
       "    </tr>\n",
       "    <tr>\n",
       "      <th>1448</th>\n",
       "      <td>0</td>\n",
       "      <td>1</td>\n",
       "      <td>0</td>\n",
       "      <td>1</td>\n",
       "      <td>1</td>\n",
       "      <td>0</td>\n",
       "      <td>0</td>\n",
       "      <td>0</td>\n",
       "      <td>1</td>\n",
       "      <td>0</td>\n",
       "      <td>1</td>\n",
       "    </tr>\n",
       "    <tr>\n",
       "      <th>1449</th>\n",
       "      <td>1</td>\n",
       "      <td>1</td>\n",
       "      <td>0</td>\n",
       "      <td>1</td>\n",
       "      <td>0</td>\n",
       "      <td>0</td>\n",
       "      <td>1</td>\n",
       "      <td>1</td>\n",
       "      <td>0</td>\n",
       "      <td>1</td>\n",
       "      <td>0</td>\n",
       "    </tr>\n",
       "    <tr>\n",
       "      <th>1450</th>\n",
       "      <td>1</td>\n",
       "      <td>1</td>\n",
       "      <td>0</td>\n",
       "      <td>1</td>\n",
       "      <td>0</td>\n",
       "      <td>1</td>\n",
       "      <td>0</td>\n",
       "      <td>1</td>\n",
       "      <td>1</td>\n",
       "      <td>0</td>\n",
       "      <td>0</td>\n",
       "    </tr>\n",
       "    <tr>\n",
       "      <th>1451</th>\n",
       "      <td>1</td>\n",
       "      <td>1</td>\n",
       "      <td>0</td>\n",
       "      <td>0</td>\n",
       "      <td>0</td>\n",
       "      <td>1</td>\n",
       "      <td>1</td>\n",
       "      <td>1</td>\n",
       "      <td>0</td>\n",
       "      <td>1</td>\n",
       "      <td>0</td>\n",
       "    </tr>\n",
       "    <tr>\n",
       "      <th>1452</th>\n",
       "      <td>0</td>\n",
       "      <td>1</td>\n",
       "      <td>0</td>\n",
       "      <td>1</td>\n",
       "      <td>1</td>\n",
       "      <td>0</td>\n",
       "      <td>0</td>\n",
       "      <td>0</td>\n",
       "      <td>1</td>\n",
       "      <td>0</td>\n",
       "      <td>1</td>\n",
       "    </tr>\n",
       "  </tbody>\n",
       "</table>\n",
       "<p>1453 rows × 11 columns</p>\n",
       "</div>"
      ],
      "text/plain": [
       "      yummy  convenient  spicy  fattening  greasy  fast  cheap  tasty  \\\n",
       "0         0           1      0          1       0     1      1      0   \n",
       "1         1           1      0          1       1     1      1      1   \n",
       "2         0           1      1          1       1     1      0      1   \n",
       "3         1           1      0          1       1     1      1      1   \n",
       "4         0           1      0          1       1     1      1      0   \n",
       "...     ...         ...    ...        ...     ...   ...    ...    ...   \n",
       "1448      0           1      0          1       1     0      0      0   \n",
       "1449      1           1      0          1       0     0      1      1   \n",
       "1450      1           1      0          1       0     1      0      1   \n",
       "1451      1           1      0          0       0     1      1      1   \n",
       "1452      0           1      0          1       1     0      0      0   \n",
       "\n",
       "      expensive  healthy  disgusting  \n",
       "0             1        0           0  \n",
       "1             1        0           0  \n",
       "2             1        1           0  \n",
       "3             0        0           1  \n",
       "4             0        1           0  \n",
       "...         ...      ...         ...  \n",
       "1448          1        0           1  \n",
       "1449          0        1           0  \n",
       "1450          1        0           0  \n",
       "1451          0        1           0  \n",
       "1452          1        0           1  \n",
       "\n",
       "[1453 rows x 11 columns]"
      ]
     },
     "execution_count": 18,
     "metadata": {},
     "output_type": "execute_result"
    }
   ],
   "source": [
    "new_df"
   ]
  },
  {
   "cell_type": "code",
   "execution_count": 19,
   "id": "bb9dd32b",
   "metadata": {},
   "outputs": [
    {
     "name": "stdout",
     "output_type": "stream",
     "text": [
      "<class 'pandas.core.frame.DataFrame'>\n",
      "RangeIndex: 1453 entries, 0 to 1452\n",
      "Data columns (total 11 columns):\n",
      " #   Column      Non-Null Count  Dtype\n",
      "---  ------      --------------  -----\n",
      " 0   yummy       1453 non-null   int64\n",
      " 1   convenient  1453 non-null   int64\n",
      " 2   spicy       1453 non-null   int64\n",
      " 3   fattening   1453 non-null   int64\n",
      " 4   greasy      1453 non-null   int64\n",
      " 5   fast        1453 non-null   int64\n",
      " 6   cheap       1453 non-null   int64\n",
      " 7   tasty       1453 non-null   int64\n",
      " 8   expensive   1453 non-null   int64\n",
      " 9   healthy     1453 non-null   int64\n",
      " 10  disgusting  1453 non-null   int64\n",
      "dtypes: int64(11)\n",
      "memory usage: 125.0 KB\n"
     ]
    }
   ],
   "source": [
    "new_df.info()"
   ]
  },
  {
   "cell_type": "code",
   "execution_count": 20,
   "id": "11f6d475",
   "metadata": {},
   "outputs": [
    {
     "data": {
      "text/plain": [
       "yummy         0.55\n",
       "convenient    0.91\n",
       "spicy         0.09\n",
       "fattening     0.87\n",
       "greasy        0.53\n",
       "fast          0.90\n",
       "cheap         0.60\n",
       "tasty         0.64\n",
       "expensive     0.36\n",
       "healthy       0.20\n",
       "disgusting    0.24\n",
       "dtype: float64"
      ]
     },
     "execution_count": 20,
     "metadata": {},
     "output_type": "execute_result"
    }
   ],
   "source": [
    "np.round(np.mean(new_df,axis=0),2)"
   ]
  },
  {
   "cell_type": "code",
   "execution_count": 21,
   "id": "c6bbc2e8",
   "metadata": {},
   "outputs": [],
   "source": [
    "from sklearn.preprocessing import StandardScaler\n",
    "sc = StandardScaler()\n",
    "new_df_scaled = sc.fit_transform(new_df)"
   ]
  },
  {
   "cell_type": "code",
   "execution_count": 22,
   "id": "b52c5ca3",
   "metadata": {},
   "outputs": [
    {
     "data": {
      "text/plain": [
       "array([[-1.11147857,  0.31873518, -0.32134871, ...,  1.339489  ,\n",
       "        -0.49827882, -0.56648839],\n",
       "       [ 0.89970246,  0.31873518, -0.32134871, ...,  1.339489  ,\n",
       "        -0.49827882, -0.56648839],\n",
       "       [-1.11147857,  0.31873518,  3.11188424, ...,  1.339489  ,\n",
       "         2.00690848, -0.56648839],\n",
       "       ...,\n",
       "       [ 0.89970246,  0.31873518, -0.32134871, ...,  1.339489  ,\n",
       "        -0.49827882, -0.56648839],\n",
       "       [ 0.89970246,  0.31873518, -0.32134871, ..., -0.74655335,\n",
       "         2.00690848, -0.56648839],\n",
       "       [-1.11147857,  0.31873518, -0.32134871, ...,  1.339489  ,\n",
       "        -0.49827882,  1.76526126]])"
      ]
     },
     "execution_count": 22,
     "metadata": {},
     "output_type": "execute_result"
    }
   ],
   "source": [
    "new_df_scaled"
   ]
  },
  {
   "cell_type": "code",
   "execution_count": 23,
   "id": "5cca30fe",
   "metadata": {},
   "outputs": [
    {
     "data": {
      "text/html": [
       "<div>\n",
       "<style scoped>\n",
       "    .dataframe tbody tr th:only-of-type {\n",
       "        vertical-align: middle;\n",
       "    }\n",
       "\n",
       "    .dataframe tbody tr th {\n",
       "        vertical-align: top;\n",
       "    }\n",
       "\n",
       "    .dataframe thead th {\n",
       "        text-align: right;\n",
       "    }\n",
       "</style>\n",
       "<table border=\"1\" class=\"dataframe\">\n",
       "  <thead>\n",
       "    <tr style=\"text-align: right;\">\n",
       "      <th></th>\n",
       "      <th>PC</th>\n",
       "      <th>Standard deviation</th>\n",
       "      <th>Proportion of Variance</th>\n",
       "      <th>Cumulative Proportion</th>\n",
       "    </tr>\n",
       "  </thead>\n",
       "  <tbody>\n",
       "    <tr>\n",
       "      <th>0</th>\n",
       "      <td>1</td>\n",
       "      <td>63.911793</td>\n",
       "      <td>0.255566</td>\n",
       "      <td>0.255566</td>\n",
       "    </tr>\n",
       "    <tr>\n",
       "      <th>1</th>\n",
       "      <td>2</td>\n",
       "      <td>48.693327</td>\n",
       "      <td>0.148348</td>\n",
       "      <td>0.403914</td>\n",
       "    </tr>\n",
       "    <tr>\n",
       "      <th>2</th>\n",
       "      <td>3</td>\n",
       "      <td>44.781385</td>\n",
       "      <td>0.125469</td>\n",
       "      <td>0.529383</td>\n",
       "    </tr>\n",
       "    <tr>\n",
       "      <th>3</th>\n",
       "      <td>4</td>\n",
       "      <td>39.631361</td>\n",
       "      <td>0.098270</td>\n",
       "      <td>0.627653</td>\n",
       "    </tr>\n",
       "    <tr>\n",
       "      <th>4</th>\n",
       "      <td>5</td>\n",
       "      <td>36.528314</td>\n",
       "      <td>0.083484</td>\n",
       "      <td>0.711136</td>\n",
       "    </tr>\n",
       "    <tr>\n",
       "      <th>5</th>\n",
       "      <td>6</td>\n",
       "      <td>33.708274</td>\n",
       "      <td>0.071091</td>\n",
       "      <td>0.782227</td>\n",
       "    </tr>\n",
       "    <tr>\n",
       "      <th>6</th>\n",
       "      <td>7</td>\n",
       "      <td>32.228320</td>\n",
       "      <td>0.064986</td>\n",
       "      <td>0.847213</td>\n",
       "    </tr>\n",
       "    <tr>\n",
       "      <th>7</th>\n",
       "      <td>8</td>\n",
       "      <td>29.336002</td>\n",
       "      <td>0.053845</td>\n",
       "      <td>0.901058</td>\n",
       "    </tr>\n",
       "    <tr>\n",
       "      <th>8</th>\n",
       "      <td>9</td>\n",
       "      <td>27.590573</td>\n",
       "      <td>0.047628</td>\n",
       "      <td>0.948686</td>\n",
       "    </tr>\n",
       "    <tr>\n",
       "      <th>9</th>\n",
       "      <td>10</td>\n",
       "      <td>21.141079</td>\n",
       "      <td>0.027964</td>\n",
       "      <td>0.976650</td>\n",
       "    </tr>\n",
       "    <tr>\n",
       "      <th>10</th>\n",
       "      <td>11</td>\n",
       "      <td>19.318629</td>\n",
       "      <td>0.023350</td>\n",
       "      <td>1.000000</td>\n",
       "    </tr>\n",
       "  </tbody>\n",
       "</table>\n",
       "</div>"
      ],
      "text/plain": [
       "    PC  Standard deviation  Proportion of Variance  Cumulative Proportion\n",
       "0    1           63.911793                0.255566               0.255566\n",
       "1    2           48.693327                0.148348               0.403914\n",
       "2    3           44.781385                0.125469               0.529383\n",
       "3    4           39.631361                0.098270               0.627653\n",
       "4    5           36.528314                0.083484               0.711136\n",
       "5    6           33.708274                0.071091               0.782227\n",
       "6    7           32.228320                0.064986               0.847213\n",
       "7    8           29.336002                0.053845               0.901058\n",
       "8    9           27.590573                0.047628               0.948686\n",
       "9   10           21.141079                0.027964               0.976650\n",
       "10  11           19.318629                0.023350               1.000000"
      ]
     },
     "execution_count": 23,
     "metadata": {},
     "output_type": "execute_result"
    }
   ],
   "source": [
    "#Principal components analysis on scaled data\n",
    "from sklearn.decomposition import PCA\n",
    "# Fit PCA\n",
    "pca = PCA()\n",
    "MD_pca = pca.fit_transform(new_df_scaled)\n",
    "\n",
    "# Print summary\n",
    "explained_variance_ratio = pca.explained_variance_ratio_\n",
    "cumulative_variance_ratio = explained_variance_ratio.cumsum()\n",
    "\n",
    "summary_data = {\n",
    "    'PC': range(1, len(explained_variance_ratio) + 1),\n",
    "    'Standard deviation': pca.singular_values_,\n",
    "    'Proportion of Variance': explained_variance_ratio,\n",
    "    'Cumulative Proportion': cumulative_variance_ratio\n",
    "}\n",
    "\n",
    "summary_df = pd.DataFrame(summary_data)\n",
    "\n",
    "summary_df"
   ]
  },
  {
   "cell_type": "code",
   "execution_count": 24,
   "id": "2ae9b2a1",
   "metadata": {},
   "outputs": [
    {
     "data": {
      "text/plain": [
       "Text(0, 0.5, 'Principal Component 2')"
      ]
     },
     "execution_count": 24,
     "metadata": {},
     "output_type": "execute_result"
    },
    {
     "data": {
      "image/png": "[encoded data removed]",
      "text/plain": [
       "<Figure size 640x480 with 1 Axes>"
      ]
     },
     "metadata": {},
     "output_type": "display_data"
    }
   ],
   "source": [
    "plt.scatter(MD_pca[:, 0], MD_pca[:, 1], c='grey', alpha=0.7, edgecolors='k', linewidths=0.5)\n",
    "plt.title('PCA Projections')\n",
    "plt.xlabel('Principal Component 1')\n",
    "plt.ylabel('Principal Component 2')"
   ]
  },
  {
   "cell_type": "markdown",
   "id": "acc3c6b6",
   "metadata": {},
   "source": [
    "# Extracting Segments"
   ]
  },
  {
   "cell_type": "markdown",
   "id": "3076cbfa",
   "metadata": {},
   "source": [
    "# Using k-Means"
   ]
  },
  {
   "cell_type": "code",
   "execution_count": 25,
   "id": "651f26a6",
   "metadata": {},
   "outputs": [],
   "source": [
    "from sklearn.cluster import KMeans\n",
    "    \n",
    "inertia_values = []\n",
    "for i in range(1,9):\n",
    "    inertia_values.append(KMeans(n_clusters=i, n_init=10, random_state=1234).fit(new_df_scaled))\n",
    "    "
   ]
  },
  {
   "cell_type": "code",
   "execution_count": null,
   "id": "282a10a2",
   "metadata": {},
   "outputs": [],
   "source": [
    "# Plot the scree plot\n",
    "plt.plot(range(1, 9), [kmeans.inertia_ for kmeans in inertia_values], marker=\"o\")\n",
    "plt.xlabel(\"number of segments\")\n",
    "plt.title('Scree Plot for KMeans Clustering')\n",
    "plt.ylabel('Inertia (Sum of Squared Distances)')\n",
    "plt.show()"
   ]
  },
  {
   "cell_type": "code",
   "execution_count": 31,
   "id": "ef4347b7",
   "metadata": {},
   "outputs": [
    {
     "data": {
      "image/png": "[encoded data removed]",
      "text/plain": [
       "<Figure size 640x480 with 1 Axes>"
      ]
     },
     "metadata": {},
     "output_type": "display_data"
    }
   ],
   "source": [
    "from sklearn.utils import resample\n",
    "\n",
    "# Function to perform KMeans clustering and calculate inertia\n",
    "def kmeans_and_inertia(data, n_clusters):\n",
    "    kmeans = KMeans(n_clusters=n_clusters, n_init=10, random_state=1234)\n",
    "    kmeans.fit(data)\n",
    "    inertia = kmeans.inertia_\n",
    "    return inertia\n",
    "\n",
    "# Global stability analysis for each number of segments using bootstrap\n",
    "n_rep = 10\n",
    "n_boot = 100\n",
    "n_clusters_range = range(2, 9)\n",
    "\n",
    "bootstrap_inertia_values = []\n",
    "\n",
    "for rep in range(n_rep):\n",
    "    inertia_replicates = []\n",
    "    \n",
    "    for n_clusters in n_clusters_range:\n",
    "        inertia_samples = []\n",
    "        \n",
    "        for _ in range(n_boot):\n",
    "            # Bootstrap resampling\n",
    "            resampled_data = resample(new_df_scaled, replace=True, random_state=np.random.randint(1, 1000))\n",
    "            inertia_samples.append(kmeans_and_inertia(resampled_data, n_clusters))\n",
    "        \n",
    "        inertia_replicates.append(inertia_samples)\n",
    "    \n",
    "    bootstrap_inertia_values.append(inertia_replicates)\n",
    "\n",
    "# Flatten the 3D list to a 2D list\n",
    "flattened_inertia_values = np.array(bootstrap_inertia_values).reshape(-1, len(n_clusters_range))\n",
    "\n",
    "# Plot the global stability boxplot for inertia\n",
    "plt.boxplot(flattened_inertia_values, labels=[str(n_clusters) for n_clusters in n_clusters_range])\n",
    "plt.xlabel('Number of Segments')\n",
    "plt.ylabel('Inertia')\n",
    "plt.title('Global Stability Boxplot for Inertia')\n",
    "plt.show()"
   ]
  },
  {
   "cell_type": "code",
   "execution_count": 34,
   "id": "988e3990",
   "metadata": {},
   "outputs": [
    {
     "data": {
      "image/png": "[encoded data removed]",
      "text/plain": [
       "<Figure size 800x600 with 1 Axes>"
      ]
     },
     "metadata": {},
     "output_type": "display_data"
    }
   ],
   "source": [
    "from sklearn_extra.cluster import KMedoids\n",
    "MD_kmeans = KMeans(n_clusters=4, random_state=1234).fit(new_df_scaled)\n",
    "\n",
    "# Gorge plot for the four-segment solution\n",
    "plt.figure(figsize=(8, 6))\n",
    "plt.hist(MD_kmeans.labels_, bins=np.arange(5)-0.5, edgecolor='black', color='skyblue')\n",
    "plt.xlabel('Segment')\n",
    "plt.ylabel('Frequency')\n",
    "plt.title('Gorge Plot for Four-Segment Solution')\n",
    "plt.show()\n"
   ]
  },
  {
   "cell_type": "code",
   "execution_count": 28,
   "id": "4cb06959",
   "metadata": {},
   "outputs": [
    {
     "name": "stderr",
     "output_type": "stream",
     "text": [
      "C:\\Users\\vk100\\AppData\\Local\\Temp\\ipykernel_3208\\3880243844.py:15: FutureWarning: DataFrame.applymap has been deprecated. Use DataFrame.map instead.\n",
      "  transitions = labels_df.diff(axis=1).applymap(lambda x: 1 if x != 0 else 0)\n"
     ]
    },
    {
     "data": {
      "image/png": "[encoded data removed]",
      "text/plain": [
       "<Figure size 1000x800 with 1 Axes>"
      ]
     },
     "metadata": {},
     "output_type": "display_data"
    }
   ],
   "source": [
    "from kmodes.kmodes import KModes\n",
    "import seaborn as sns\n",
    "\n",
    "MD_kmeans = KMeans(n_clusters=4, random_state=1234).fit(new_df_scaled)\n",
    "\n",
    "# Get the labels from different solutions\n",
    "labels_1 = MD_kmeans.labels_\n",
    "# You might have labels from other solutions as well, e.g., labels_2, labels_3, ...\n",
    "\n",
    "# Create a DataFrame with the labels\n",
    "labels_df = pd.DataFrame({'Solution_1': labels_1})\n",
    "# Add other solutions if available: labels_df['Solution_2'] = labels_2, ...\n",
    "\n",
    "# Compute transitions between solutions\n",
    "transitions = labels_df.diff(axis=1).applymap(lambda x: 1 if x != 0 else 0)\n",
    "\n",
    "# Plot the heatmap\n",
    "plt.figure(figsize=(10, 8))\n",
    "sns.heatmap(transitions.T, cmap='Blues', cbar=False, annot=True, fmt='g', linewidths=.5)\n",
    "plt.title('Segment Level Stability Across Solutions (Custom SLSA Plot)')\n",
    "plt.xlabel('Data Point Index')\n",
    "plt.ylabel('Solution Transition')\n",
    "plt.show()"
   ]
  },
  {
   "cell_type": "markdown",
   "id": "310ecdcb",
   "metadata": {},
   "source": [
    "# Using Mixtures of Distributions"
   ]
  },
  {
   "cell_type": "code",
   "execution_count": 29,
   "id": "38e24f15",
   "metadata": {},
   "outputs": [
    {
     "data": {
      "image/png": "[encoded data removed]",
      "text/plain": [
       "<Figure size 640x480 with 2 Axes>"
      ]
     },
     "metadata": {},
     "output_type": "display_data"
    }
   ],
   "source": [
    "from sklearn.decomposition import PCA\n",
    "import matplotlib.pyplot as plt\n",
    "\n",
    "# Assuming new_df_scaled is your scaled data\n",
    "pca = PCA(n_components=2)\n",
    "MD_pca = pca.fit_transform(new_df_scaled)\n",
    "\n",
    "# Assuming MD_kmeans.labels_ is the cluster labels from KMeans\n",
    "plt.scatter(MD_pca[:, 0], MD_pca[:, 1], c=MD_kmeans.labels_, cmap=\"viridis\")\n",
    "plt.colorbar()\n",
    "plt.show()\n"
   ]
  },
  {
   "cell_type": "code",
   "execution_count": 32,
   "id": "e053fe38",
   "metadata": {},
   "outputs": [
    {
     "name": "stdout",
     "output_type": "stream",
     "text": [
      "col_0    0    1   2    3\n",
      "row_0                   \n",
      "0      679   11   8   51\n",
      "1        0  123   0    0\n",
      "2        0    0  48  217\n",
      "3        0    0   5  311\n"
     ]
    }
   ],
   "source": [
    "MD_k4 = MD_kmeans.labels_\n",
    "MD_m4a = GaussianMixture(n_components=4, random_state=1234).fit(new_df_scaled).predict(new_df_scaled)\n",
    "print(pd.crosstab(MD_k4, MD_m4a))"
   ]
  },
  {
   "cell_type": "code",
   "execution_count": 33,
   "id": "faf713ec",
   "metadata": {},
   "outputs": [
    {
     "data": {
      "text/plain": [
       "Index(['yummy', 'convenient', 'spicy', 'fattening', 'greasy', 'fast', 'cheap',\n",
       "       'tasty', 'expensive', 'healthy', 'disgusting', 'Like', 'Age',\n",
       "       'VisitFrequency', 'Gender'],\n",
       "      dtype='object')"
      ]
     },
     "execution_count": 33,
     "metadata": {},
     "output_type": "execute_result"
    }
   ],
   "source": [
    "df.columns"
   ]
  },
  {
   "cell_type": "code",
   "execution_count": 34,
   "id": "3cdc11dc",
   "metadata": {},
   "outputs": [
    {
     "data": {
      "text/plain": [
       "array([143, 152, 169,  71,  73,  59,  58, 160, 229, 187, 152], dtype=int64)"
      ]
     },
     "execution_count": 34,
     "metadata": {},
     "output_type": "execute_result"
    }
   ],
   "source": [
    "np.flip(np.unique(df['Like'], return_counts=True)[1])"
   ]
  },
  {
   "cell_type": "code",
   "execution_count": 35,
   "id": "e9feb115",
   "metadata": {},
   "outputs": [],
   "source": [
    "test = df[\"Like\"].to_numpy()"
   ]
  },
  {
   "cell_type": "code",
   "execution_count": 36,
   "id": "9482578c",
   "metadata": {},
   "outputs": [],
   "source": [
    "unique = np.unique(test, return_counts=True)"
   ]
  },
  {
   "cell_type": "code",
   "execution_count": 37,
   "id": "69bd7a8e",
   "metadata": {},
   "outputs": [
    {
     "data": {
      "text/plain": [
       "(array(['+1', '+2', '+3', '+4', '-1', '-2', '-3', '-4', '0',\n",
       "        'I hate it!-5', 'I love it!+5'], dtype=object),\n",
       " array([152, 187, 229, 160,  58,  59,  73,  71, 169, 152, 143], dtype=int64))"
      ]
     },
     "execution_count": 37,
     "metadata": {},
     "output_type": "execute_result"
    }
   ],
   "source": [
    "unique"
   ]
  },
  {
   "cell_type": "code",
   "execution_count": 39,
   "id": "8e99db4e",
   "metadata": {},
   "outputs": [],
   "source": [
    "test[test=='I hate it!-5']='-5'\n",
    "test[test=='I love it!+5']='+5'"
   ]
  },
  {
   "cell_type": "code",
   "execution_count": 40,
   "id": "cea376f8",
   "metadata": {},
   "outputs": [],
   "source": [
    "df['Like'] = test"
   ]
  },
  {
   "cell_type": "code",
   "execution_count": 41,
   "id": "b63b5bd3",
   "metadata": {},
   "outputs": [],
   "source": [
    "df['Like_n'] = pd.to_numeric(df['Like'])"
   ]
  },
  {
   "cell_type": "code",
   "execution_count": 42,
   "id": "9fcbab38",
   "metadata": {},
   "outputs": [
    {
     "data": {
      "text/plain": [
       "0      -3\n",
       "1       2\n",
       "2       1\n",
       "3       4\n",
       "4       2\n",
       "       ..\n",
       "1448   -5\n",
       "1449    2\n",
       "1450    3\n",
       "1451    4\n",
       "1452   -3\n",
       "Name: Like_n, Length: 1453, dtype: int64"
      ]
     },
     "execution_count": 42,
     "metadata": {},
     "output_type": "execute_result"
    }
   ],
   "source": [
    "df['Like_n']"
   ]
  },
  {
   "cell_type": "code",
   "execution_count": 43,
   "id": "af2fc17e",
   "metadata": {},
   "outputs": [
    {
     "name": "stderr",
     "output_type": "stream",
     "text": [
      "C:\\Users\\vk100\\AppData\\Local\\Temp\\ipykernel_3208\\1990023092.py:2: FutureWarning: DataFrame.applymap has been deprecated. Use DataFrame.map instead.\n",
      "  data = data.applymap(lambda x: 1 if x == 'Yes' else 0)\n"
     ]
    }
   ],
   "source": [
    "X_2 = yesRno_to_num(df)"
   ]
  },
  {
   "cell_type": "code",
   "execution_count": 44,
   "id": "3b6e26da",
   "metadata": {},
   "outputs": [],
   "source": [
    "X_2['Like_n'] = df['Like_n']"
   ]
  },
  {
   "cell_type": "code",
   "execution_count": 45,
   "id": "49c58fca",
   "metadata": {},
   "outputs": [
    {
     "data": {
      "text/html": [
       "<div>\n",
       "<style scoped>\n",
       "    .dataframe tbody tr th:only-of-type {\n",
       "        vertical-align: middle;\n",
       "    }\n",
       "\n",
       "    .dataframe tbody tr th {\n",
       "        vertical-align: top;\n",
       "    }\n",
       "\n",
       "    .dataframe thead th {\n",
       "        text-align: right;\n",
       "    }\n",
       "</style>\n",
       "<table border=\"1\" class=\"dataframe\">\n",
       "  <thead>\n",
       "    <tr style=\"text-align: right;\">\n",
       "      <th></th>\n",
       "      <th>yummy</th>\n",
       "      <th>convenient</th>\n",
       "      <th>spicy</th>\n",
       "      <th>fattening</th>\n",
       "      <th>greasy</th>\n",
       "      <th>fast</th>\n",
       "      <th>cheap</th>\n",
       "      <th>tasty</th>\n",
       "      <th>expensive</th>\n",
       "      <th>healthy</th>\n",
       "      <th>disgusting</th>\n",
       "      <th>Like</th>\n",
       "      <th>Age</th>\n",
       "      <th>VisitFrequency</th>\n",
       "      <th>Gender</th>\n",
       "      <th>Like_n</th>\n",
       "    </tr>\n",
       "  </thead>\n",
       "  <tbody>\n",
       "    <tr>\n",
       "      <th>0</th>\n",
       "      <td>0</td>\n",
       "      <td>1</td>\n",
       "      <td>0</td>\n",
       "      <td>1</td>\n",
       "      <td>0</td>\n",
       "      <td>1</td>\n",
       "      <td>1</td>\n",
       "      <td>0</td>\n",
       "      <td>1</td>\n",
       "      <td>0</td>\n",
       "      <td>0</td>\n",
       "      <td>0</td>\n",
       "      <td>0</td>\n",
       "      <td>0</td>\n",
       "      <td>0</td>\n",
       "      <td>-3</td>\n",
       "    </tr>\n",
       "    <tr>\n",
       "      <th>1</th>\n",
       "      <td>1</td>\n",
       "      <td>1</td>\n",
       "      <td>0</td>\n",
       "      <td>1</td>\n",
       "      <td>1</td>\n",
       "      <td>1</td>\n",
       "      <td>1</td>\n",
       "      <td>1</td>\n",
       "      <td>1</td>\n",
       "      <td>0</td>\n",
       "      <td>0</td>\n",
       "      <td>0</td>\n",
       "      <td>0</td>\n",
       "      <td>0</td>\n",
       "      <td>0</td>\n",
       "      <td>2</td>\n",
       "    </tr>\n",
       "    <tr>\n",
       "      <th>2</th>\n",
       "      <td>0</td>\n",
       "      <td>1</td>\n",
       "      <td>1</td>\n",
       "      <td>1</td>\n",
       "      <td>1</td>\n",
       "      <td>1</td>\n",
       "      <td>0</td>\n",
       "      <td>1</td>\n",
       "      <td>1</td>\n",
       "      <td>1</td>\n",
       "      <td>0</td>\n",
       "      <td>0</td>\n",
       "      <td>0</td>\n",
       "      <td>0</td>\n",
       "      <td>0</td>\n",
       "      <td>1</td>\n",
       "    </tr>\n",
       "    <tr>\n",
       "      <th>3</th>\n",
       "      <td>1</td>\n",
       "      <td>1</td>\n",
       "      <td>0</td>\n",
       "      <td>1</td>\n",
       "      <td>1</td>\n",
       "      <td>1</td>\n",
       "      <td>1</td>\n",
       "      <td>1</td>\n",
       "      <td>0</td>\n",
       "      <td>0</td>\n",
       "      <td>1</td>\n",
       "      <td>0</td>\n",
       "      <td>0</td>\n",
       "      <td>0</td>\n",
       "      <td>0</td>\n",
       "      <td>4</td>\n",
       "    </tr>\n",
       "    <tr>\n",
       "      <th>4</th>\n",
       "      <td>0</td>\n",
       "      <td>1</td>\n",
       "      <td>0</td>\n",
       "      <td>1</td>\n",
       "      <td>1</td>\n",
       "      <td>1</td>\n",
       "      <td>1</td>\n",
       "      <td>0</td>\n",
       "      <td>0</td>\n",
       "      <td>1</td>\n",
       "      <td>0</td>\n",
       "      <td>0</td>\n",
       "      <td>0</td>\n",
       "      <td>0</td>\n",
       "      <td>0</td>\n",
       "      <td>2</td>\n",
       "    </tr>\n",
       "  </tbody>\n",
       "</table>\n",
       "</div>"
      ],
      "text/plain": [
       "   yummy  convenient  spicy  fattening  greasy  fast  cheap  tasty  expensive  \\\n",
       "0      0           1      0          1       0     1      1      0          1   \n",
       "1      1           1      0          1       1     1      1      1          1   \n",
       "2      0           1      1          1       1     1      0      1          1   \n",
       "3      1           1      0          1       1     1      1      1          0   \n",
       "4      0           1      0          1       1     1      1      0          0   \n",
       "\n",
       "   healthy  disgusting  Like  Age  VisitFrequency  Gender  Like_n  \n",
       "0        0           0     0    0               0       0      -3  \n",
       "1        0           0     0    0               0       0       2  \n",
       "2        1           0     0    0               0       0       1  \n",
       "3        0           1     0    0               0       0       4  \n",
       "4        1           0     0    0               0       0       2  "
      ]
     },
     "execution_count": 45,
     "metadata": {},
     "output_type": "execute_result"
    }
   ],
   "source": [
    "X_2.head()"
   ]
  },
  {
   "cell_type": "code",
   "execution_count": 46,
   "id": "5a38efe4",
   "metadata": {},
   "outputs": [],
   "source": [
    "X_2_scale = sc.fit_transform(X_2)"
   ]
  },
  {
   "cell_type": "code",
   "execution_count": 47,
   "id": "d1bd4ea3",
   "metadata": {},
   "outputs": [
    {
     "data": {
      "text/html": [
       "<style>#sk-container-id-1 {\n",
       "  /* Definition of color scheme common for light and dark mode */\n",
       "  --sklearn-color-text: black;\n",
       "  --sklearn-color-line: gray;\n",
       "  /* Definition of color scheme for unfitted estimators */\n",
       "  --sklearn-color-unfitted-level-0: #fff5e6;\n",
       "  --sklearn-color-unfitted-level-1: #f6e4d2;\n",
       "  --sklearn-color-unfitted-level-2: #ffe0b3;\n",
       "  --sklearn-color-unfitted-level-3: chocolate;\n",
       "  /* Definition of color scheme for fitted estimators */\n",
       "  --sklearn-color-fitted-level-0: #f0f8ff;\n",
       "  --sklearn-color-fitted-level-1: #d4ebff;\n",
       "  --sklearn-color-fitted-level-2: #b3dbfd;\n",
       "  --sklearn-color-fitted-level-3: cornflowerblue;\n",
       "\n",
       "  /* Specific color for light theme */\n",
       "  --sklearn-color-text-on-default-background: var(--sg-text-color, var(--theme-code-foreground, var(--jp-content-font-color1, black)));\n",
       "  --sklearn-color-background: var(--sg-background-color, var(--theme-background, var(--jp-layout-color0, white)));\n",
       "  --sklearn-color-border-box: var(--sg-text-color, var(--theme-code-foreground, var(--jp-content-font-color1, black)));\n",
       "  --sklearn-color-icon: #696969;\n",
       "\n",
       "  @media (prefers-color-scheme: dark) {\n",
       "    /* Redefinition of color scheme for dark theme */\n",
       "    --sklearn-color-text-on-default-background: var(--sg-text-color, var(--theme-code-foreground, var(--jp-content-font-color1, white)));\n",
       "    --sklearn-color-background: var(--sg-background-color, var(--theme-background, var(--jp-layout-color0, #111)));\n",
       "    --sklearn-color-border-box: var(--sg-text-color, var(--theme-code-foreground, var(--jp-content-font-color1, white)));\n",
       "    --sklearn-color-icon: #878787;\n",
       "  }\n",
       "}\n",
       "\n",
       "#sk-container-id-1 {\n",
       "  color: var(--sklearn-color-text);\n",
       "}\n",
       "\n",
       "#sk-container-id-1 pre {\n",
       "  padding: 0;\n",
       "}\n",
       "\n",
       "#sk-container-id-1 input.sk-hidden--visually {\n",
       "  border: 0;\n",
       "  clip: rect(1px 1px 1px 1px);\n",
       "  clip: rect(1px, 1px, 1px, 1px);\n",
       "  height: 1px;\n",
       "  margin: -1px;\n",
       "  overflow: hidden;\n",
       "  padding: 0;\n",
       "  position: absolute;\n",
       "  width: 1px;\n",
       "}\n",
       "\n",
       "#sk-container-id-1 div.sk-dashed-wrapped {\n",
       "  border: 1px dashed var(--sklearn-color-line);\n",
       "  margin: 0 0.4em 0.5em 0.4em;\n",
       "  box-sizing: border-box;\n",
       "  padding-bottom: 0.4em;\n",
       "  background-color: var(--sklearn-color-background);\n",
       "}\n",
       "\n",
       "#sk-container-id-1 div.sk-container {\n",
       "  /* jupyter's `normalize.less` sets `[hidden] { display: none; }`\n",
       "     but bootstrap.min.css set `[hidden] { display: none !important; }`\n",
       "     so we also need the `!important` here to be able to override the\n",
       "     default hidden behavior on the sphinx rendered scikit-learn.org.\n",
       "     See: https://github.com/scikit-learn/scikit-learn/issues/21755 */\n",
       "  display: inline-block !important;\n",
       "  position: relative;\n",
       "}\n",
       "\n",
       "#sk-container-id-1 div.sk-text-repr-fallback {\n",
       "  display: none;\n",
       "}\n",
       "\n",
       "div.sk-parallel-item,\n",
       "div.sk-serial,\n",
       "div.sk-item {\n",
       "  /* draw centered vertical line to link estimators */\n",
       "  background-image: linear-gradient(var(--sklearn-color-text-on-default-background), var(--sklearn-color-text-on-default-background));\n",
       "  background-size: 2px 100%;\n",
       "  background-repeat: no-repeat;\n",
       "  background-position: center center;\n",
       "}\n",
       "\n",
       "/* Parallel-specific style estimator block */\n",
       "\n",
       "#sk-container-id-1 div.sk-parallel-item::after {\n",
       "  content: \"\";\n",
       "  width: 100%;\n",
       "  border-bottom: 2px solid var(--sklearn-color-text-on-default-background);\n",
       "  flex-grow: 1;\n",
       "}\n",
       "\n",
       "#sk-container-id-1 div.sk-parallel {\n",
       "  display: flex;\n",
       "  align-items: stretch;\n",
       "  justify-content: center;\n",
       "  background-color: var(--sklearn-color-background);\n",
       "  position: relative;\n",
       "}\n",
       "\n",
       "#sk-container-id-1 div.sk-parallel-item {\n",
       "  display: flex;\n",
       "  flex-direction: column;\n",
       "}\n",
       "\n",
       "#sk-container-id-1 div.sk-parallel-item:first-child::after {\n",
       "  align-self: flex-end;\n",
       "  width: 50%;\n",
       "}\n",
       "\n",
       "#sk-container-id-1 div.sk-parallel-item:last-child::after {\n",
       "  align-self: flex-start;\n",
       "  width: 50%;\n",
       "}\n",
       "\n",
       "#sk-container-id-1 div.sk-parallel-item:only-child::after {\n",
       "  width: 0;\n",
       "}\n",
       "\n",
       "/* Serial-specific style estimator block */\n",
       "\n",
       "#sk-container-id-1 div.sk-serial {\n",
       "  display: flex;\n",
       "  flex-direction: column;\n",
       "  align-items: center;\n",
       "  background-color: var(--sklearn-color-background);\n",
       "  padding-right: 1em;\n",
       "  padding-left: 1em;\n",
       "}\n",
       "\n",
       "\n",
       "/* Toggleable style: style used for estimator/Pipeline/ColumnTransformer box that is\n",
       "clickable and can be expanded/collapsed.\n",
       "- Pipeline and ColumnTransformer use this feature and define the default style\n",
       "- Estimators will overwrite some part of the style using the `sk-estimator` class\n",
       "*/\n",
       "\n",
       "/* Pipeline and ColumnTransformer style (default) */\n",
       "\n",
       "#sk-container-id-1 div.sk-toggleable {\n",
       "  /* Default theme specific background. It is overwritten whether we have a\n",
       "  specific estimator or a Pipeline/ColumnTransformer */\n",
       "  background-color: var(--sklearn-color-background);\n",
       "}\n",
       "\n",
       "/* Toggleable label */\n",
       "#sk-container-id-1 label.sk-toggleable__label {\n",
       "  cursor: pointer;\n",
       "  display: block;\n",
       "  width: 100%;\n",
       "  margin-bottom: 0;\n",
       "  padding: 0.5em;\n",
       "  box-sizing: border-box;\n",
       "  text-align: center;\n",
       "}\n",
       "\n",
       "#sk-container-id-1 label.sk-toggleable__label-arrow:before {\n",
       "  /* Arrow on the left of the label */\n",
       "  content: \"▸\";\n",
       "  float: left;\n",
       "  margin-right: 0.25em;\n",
       "  color: var(--sklearn-color-icon);\n",
       "}\n",
       "\n",
       "#sk-container-id-1 label.sk-toggleable__label-arrow:hover:before {\n",
       "  color: var(--sklearn-color-text);\n",
       "}\n",
       "\n",
       "/* Toggleable content - dropdown */\n",
       "\n",
       "#sk-container-id-1 div.sk-toggleable__content {\n",
       "  max-height: 0;\n",
       "  max-width: 0;\n",
       "  overflow: hidden;\n",
       "  text-align: left;\n",
       "  /* unfitted */\n",
       "  background-color: var(--sklearn-color-unfitted-level-0);\n",
       "}\n",
       "\n",
       "#sk-container-id-1 div.sk-toggleable__content.fitted {\n",
       "  /* fitted */\n",
       "  background-color: var(--sklearn-color-fitted-level-0);\n",
       "}\n",
       "\n",
       "#sk-container-id-1 div.sk-toggleable__content pre {\n",
       "  margin: 0.2em;\n",
       "  border-radius: 0.25em;\n",
       "  color: var(--sklearn-color-text);\n",
       "  /* unfitted */\n",
       "  background-color: var(--sklearn-color-unfitted-level-0);\n",
       "}\n",
       "\n",
       "#sk-container-id-1 div.sk-toggleable__content.fitted pre {\n",
       "  /* unfitted */\n",
       "  background-color: var(--sklearn-color-fitted-level-0);\n",
       "}\n",
       "\n",
       "#sk-container-id-1 input.sk-toggleable__control:checked~div.sk-toggleable__content {\n",
       "  /* Expand drop-down */\n",
       "  max-height: 200px;\n",
       "  max-width: 100%;\n",
       "  overflow: auto;\n",
       "}\n",
       "\n",
       "#sk-container-id-1 input.sk-toggleable__control:checked~label.sk-toggleable__label-arrow:before {\n",
       "  content: \"▾\";\n",
       "}\n",
       "\n",
       "/* Pipeline/ColumnTransformer-specific style */\n",
       "\n",
       "#sk-container-id-1 div.sk-label input.sk-toggleable__control:checked~label.sk-toggleable__label {\n",
       "  color: var(--sklearn-color-text);\n",
       "  background-color: var(--sklearn-color-unfitted-level-2);\n",
       "}\n",
       "\n",
       "#sk-container-id-1 div.sk-label.fitted input.sk-toggleable__control:checked~label.sk-toggleable__label {\n",
       "  background-color: var(--sklearn-color-fitted-level-2);\n",
       "}\n",
       "\n",
       "/* Estimator-specific style */\n",
       "\n",
       "/* Colorize estimator box */\n",
       "#sk-container-id-1 div.sk-estimator input.sk-toggleable__control:checked~label.sk-toggleable__label {\n",
       "  /* unfitted */\n",
       "  background-color: var(--sklearn-color-unfitted-level-2);\n",
       "}\n",
       "\n",
       "#sk-container-id-1 div.sk-estimator.fitted input.sk-toggleable__control:checked~label.sk-toggleable__label {\n",
       "  /* fitted */\n",
       "  background-color: var(--sklearn-color-fitted-level-2);\n",
       "}\n",
       "\n",
       "#sk-container-id-1 div.sk-label label.sk-toggleable__label,\n",
       "#sk-container-id-1 div.sk-label label {\n",
       "  /* The background is the default theme color */\n",
       "  color: var(--sklearn-color-text-on-default-background);\n",
       "}\n",
       "\n",
       "/* On hover, darken the color of the background */\n",
       "#sk-container-id-1 div.sk-label:hover label.sk-toggleable__label {\n",
       "  color: var(--sklearn-color-text);\n",
       "  background-color: var(--sklearn-color-unfitted-level-2);\n",
       "}\n",
       "\n",
       "/* Label box, darken color on hover, fitted */\n",
       "#sk-container-id-1 div.sk-label.fitted:hover label.sk-toggleable__label.fitted {\n",
       "  color: var(--sklearn-color-text);\n",
       "  background-color: var(--sklearn-color-fitted-level-2);\n",
       "}\n",
       "\n",
       "/* Estimator label */\n",
       "\n",
       "#sk-container-id-1 div.sk-label label {\n",
       "  font-family: monospace;\n",
       "  font-weight: bold;\n",
       "  display: inline-block;\n",
       "  line-height: 1.2em;\n",
       "}\n",
       "\n",
       "#sk-container-id-1 div.sk-label-container {\n",
       "  text-align: center;\n",
       "}\n",
       "\n",
       "/* Estimator-specific */\n",
       "#sk-container-id-1 div.sk-estimator {\n",
       "  font-family: monospace;\n",
       "  border: 1px dotted var(--sklearn-color-border-box);\n",
       "  border-radius: 0.25em;\n",
       "  box-sizing: border-box;\n",
       "  margin-bottom: 0.5em;\n",
       "  /* unfitted */\n",
       "  background-color: var(--sklearn-color-unfitted-level-0);\n",
       "}\n",
       "\n",
       "#sk-container-id-1 div.sk-estimator.fitted {\n",
       "  /* fitted */\n",
       "  background-color: var(--sklearn-color-fitted-level-0);\n",
       "}\n",
       "\n",
       "/* on hover */\n",
       "#sk-container-id-1 div.sk-estimator:hover {\n",
       "  /* unfitted */\n",
       "  background-color: var(--sklearn-color-unfitted-level-2);\n",
       "}\n",
       "\n",
       "#sk-container-id-1 div.sk-estimator.fitted:hover {\n",
       "  /* fitted */\n",
       "  background-color: var(--sklearn-color-fitted-level-2);\n",
       "}\n",
       "\n",
       "/* Specification for estimator info (e.g. \"i\" and \"?\") */\n",
       "\n",
       "/* Common style for \"i\" and \"?\" */\n",
       "\n",
       ".sk-estimator-doc-link,\n",
       "a:link.sk-estimator-doc-link,\n",
       "a:visited.sk-estimator-doc-link {\n",
       "  float: right;\n",
       "  font-size: smaller;\n",
       "  line-height: 1em;\n",
       "  font-family: monospace;\n",
       "  background-color: var(--sklearn-color-background);\n",
       "  border-radius: 1em;\n",
       "  height: 1em;\n",
       "  width: 1em;\n",
       "  text-decoration: none !important;\n",
       "  margin-left: 1ex;\n",
       "  /* unfitted */\n",
       "  border: var(--sklearn-color-unfitted-level-1) 1pt solid;\n",
       "  color: var(--sklearn-color-unfitted-level-1);\n",
       "}\n",
       "\n",
       ".sk-estimator-doc-link.fitted,\n",
       "a:link.sk-estimator-doc-link.fitted,\n",
       "a:visited.sk-estimator-doc-link.fitted {\n",
       "  /* fitted */\n",
       "  border: var(--sklearn-color-fitted-level-1) 1pt solid;\n",
       "  color: var(--sklearn-color-fitted-level-1);\n",
       "}\n",
       "\n",
       "/* On hover */\n",
       "div.sk-estimator:hover .sk-estimator-doc-link:hover,\n",
       ".sk-estimator-doc-link:hover,\n",
       "div.sk-label-container:hover .sk-estimator-doc-link:hover,\n",
       ".sk-estimator-doc-link:hover {\n",
       "  /* unfitted */\n",
       "  background-color: var(--sklearn-color-unfitted-level-3);\n",
       "  color: var(--sklearn-color-background);\n",
       "  text-decoration: none;\n",
       "}\n",
       "\n",
       "div.sk-estimator.fitted:hover .sk-estimator-doc-link.fitted:hover,\n",
       ".sk-estimator-doc-link.fitted:hover,\n",
       "div.sk-label-container:hover .sk-estimator-doc-link.fitted:hover,\n",
       ".sk-estimator-doc-link.fitted:hover {\n",
       "  /* fitted */\n",
       "  background-color: var(--sklearn-color-fitted-level-3);\n",
       "  color: var(--sklearn-color-background);\n",
       "  text-decoration: none;\n",
       "}\n",
       "\n",
       "/* Span, style for the box shown on hovering the info icon */\n",
       ".sk-estimator-doc-link span {\n",
       "  display: none;\n",
       "  z-index: 9999;\n",
       "  position: relative;\n",
       "  font-weight: normal;\n",
       "  right: .2ex;\n",
       "  padding: .5ex;\n",
       "  margin: .5ex;\n",
       "  width: min-content;\n",
       "  min-width: 20ex;\n",
       "  max-width: 50ex;\n",
       "  color: var(--sklearn-color-text);\n",
       "  box-shadow: 2pt 2pt 4pt #999;\n",
       "  /* unfitted */\n",
       "  background: var(--sklearn-color-unfitted-level-0);\n",
       "  border: .5pt solid var(--sklearn-color-unfitted-level-3);\n",
       "}\n",
       "\n",
       ".sk-estimator-doc-link.fitted span {\n",
       "  /* fitted */\n",
       "  background: var(--sklearn-color-fitted-level-0);\n",
       "  border: var(--sklearn-color-fitted-level-3);\n",
       "}\n",
       "\n",
       ".sk-estimator-doc-link:hover span {\n",
       "  display: block;\n",
       "}\n",
       "\n",
       "/* \"?\"-specific style due to the `<a>` HTML tag */\n",
       "\n",
       "#sk-container-id-1 a.estimator_doc_link {\n",
       "  float: right;\n",
       "  font-size: 1rem;\n",
       "  line-height: 1em;\n",
       "  font-family: monospace;\n",
       "  background-color: var(--sklearn-color-background);\n",
       "  border-radius: 1rem;\n",
       "  height: 1rem;\n",
       "  width: 1rem;\n",
       "  text-decoration: none;\n",
       "  /* unfitted */\n",
       "  color: var(--sklearn-color-unfitted-level-1);\n",
       "  border: var(--sklearn-color-unfitted-level-1) 1pt solid;\n",
       "}\n",
       "\n",
       "#sk-container-id-1 a.estimator_doc_link.fitted {\n",
       "  /* fitted */\n",
       "  border: var(--sklearn-color-fitted-level-1) 1pt solid;\n",
       "  color: var(--sklearn-color-fitted-level-1);\n",
       "}\n",
       "\n",
       "/* On hover */\n",
       "#sk-container-id-1 a.estimator_doc_link:hover {\n",
       "  /* unfitted */\n",
       "  background-color: var(--sklearn-color-unfitted-level-3);\n",
       "  color: var(--sklearn-color-background);\n",
       "  text-decoration: none;\n",
       "}\n",
       "\n",
       "#sk-container-id-1 a.estimator_doc_link.fitted:hover {\n",
       "  /* fitted */\n",
       "  background-color: var(--sklearn-color-fitted-level-3);\n",
       "}\n",
       "</style><div id=\"sk-container-id-1\" class=\"sk-top-container\"><div class=\"sk-text-repr-fallback\"><pre>GaussianMixture(n_components=2, n_init=10, random_state=1234)</pre><b>In a Jupyter environment, please rerun this cell to show the HTML representation or trust the notebook. <br />On GitHub, the HTML representation is unable to render, please try loading this page with nbviewer.org.</b></div><div class=\"sk-container\" hidden><div class=\"sk-item\"><div class=\"sk-estimator fitted sk-toggleable\"><input class=\"sk-toggleable__control sk-hidden--visually\" id=\"sk-estimator-id-1\" type=\"checkbox\" checked><label for=\"sk-estimator-id-1\" class=\"sk-toggleable__label fitted sk-toggleable__label-arrow fitted\">&nbsp;&nbsp;GaussianMixture<a class=\"sk-estimator-doc-link fitted\" rel=\"noreferrer\" target=\"_blank\" href=\"https://scikit-learn.org/1.4/modules/generated/sklearn.mixture.GaussianMixture.html\">?<span>Documentation for GaussianMixture</span></a><span class=\"sk-estimator-doc-link fitted\">i<span>Fitted</span></span></label><div class=\"sk-toggleable__content fitted\"><pre>GaussianMixture(n_components=2, n_init=10, random_state=1234)</pre></div> </div></div></div></div>"
      ],
      "text/plain": [
       "GaussianMixture(n_components=2, n_init=10, random_state=1234)"
      ]
     },
     "execution_count": 47,
     "metadata": {},
     "output_type": "execute_result"
    }
   ],
   "source": [
    "gmm = GaussianMixture(n_components=2, n_init=10, random_state=1234, verbose=0)\n",
    "gmm.fit(X_2_scale)"
   ]
  },
  {
   "cell_type": "code",
   "execution_count": 83,
   "id": "ea620cdf",
   "metadata": {},
   "outputs": [],
   "source": [
    "df['cluster'] = gmm.predict(X_2_scale)"
   ]
  },
  {
   "cell_type": "code",
   "execution_count": 84,
   "id": "358298f8",
   "metadata": {},
   "outputs": [
    {
     "data": {
      "text/plain": [
       "0       1\n",
       "1       0\n",
       "2       0\n",
       "3       0\n",
       "4       1\n",
       "       ..\n",
       "1448    1\n",
       "1449    0\n",
       "1450    0\n",
       "1451    0\n",
       "1452    1\n",
       "Name: cluster, Length: 1453, dtype: int64"
      ]
     },
     "execution_count": 84,
     "metadata": {},
     "output_type": "execute_result"
    }
   ],
   "source": [
    "df['cluster']"
   ]
  },
  {
   "cell_type": "code",
   "execution_count": 51,
   "id": "2d0a26a2",
   "metadata": {},
   "outputs": [
    {
     "data": {
      "text/html": [
       "<div>\n",
       "<style scoped>\n",
       "    .dataframe tbody tr th:only-of-type {\n",
       "        vertical-align: middle;\n",
       "    }\n",
       "\n",
       "    .dataframe tbody tr th {\n",
       "        vertical-align: top;\n",
       "    }\n",
       "\n",
       "    .dataframe thead th {\n",
       "        text-align: right;\n",
       "    }\n",
       "</style>\n",
       "<table border=\"1\" class=\"dataframe\">\n",
       "  <thead>\n",
       "    <tr style=\"text-align: right;\">\n",
       "      <th></th>\n",
       "      <th>yummy</th>\n",
       "      <th>convenient</th>\n",
       "      <th>spicy</th>\n",
       "      <th>fattening</th>\n",
       "      <th>greasy</th>\n",
       "      <th>fast</th>\n",
       "      <th>cheap</th>\n",
       "      <th>tasty</th>\n",
       "      <th>expensive</th>\n",
       "      <th>healthy</th>\n",
       "      <th>disgusting</th>\n",
       "      <th>Like</th>\n",
       "      <th>Age</th>\n",
       "      <th>VisitFrequency</th>\n",
       "      <th>Gender</th>\n",
       "      <th>Like_n</th>\n",
       "      <th>cluster</th>\n",
       "    </tr>\n",
       "  </thead>\n",
       "  <tbody>\n",
       "    <tr>\n",
       "      <th>0</th>\n",
       "      <td>No</td>\n",
       "      <td>Yes</td>\n",
       "      <td>No</td>\n",
       "      <td>Yes</td>\n",
       "      <td>No</td>\n",
       "      <td>Yes</td>\n",
       "      <td>Yes</td>\n",
       "      <td>No</td>\n",
       "      <td>Yes</td>\n",
       "      <td>No</td>\n",
       "      <td>No</td>\n",
       "      <td>-3</td>\n",
       "      <td>61</td>\n",
       "      <td>Every three months</td>\n",
       "      <td>Female</td>\n",
       "      <td>-3</td>\n",
       "      <td>1</td>\n",
       "    </tr>\n",
       "    <tr>\n",
       "      <th>1</th>\n",
       "      <td>Yes</td>\n",
       "      <td>Yes</td>\n",
       "      <td>No</td>\n",
       "      <td>Yes</td>\n",
       "      <td>Yes</td>\n",
       "      <td>Yes</td>\n",
       "      <td>Yes</td>\n",
       "      <td>Yes</td>\n",
       "      <td>Yes</td>\n",
       "      <td>No</td>\n",
       "      <td>No</td>\n",
       "      <td>+2</td>\n",
       "      <td>51</td>\n",
       "      <td>Every three months</td>\n",
       "      <td>Female</td>\n",
       "      <td>2</td>\n",
       "      <td>0</td>\n",
       "    </tr>\n",
       "    <tr>\n",
       "      <th>2</th>\n",
       "      <td>No</td>\n",
       "      <td>Yes</td>\n",
       "      <td>Yes</td>\n",
       "      <td>Yes</td>\n",
       "      <td>Yes</td>\n",
       "      <td>Yes</td>\n",
       "      <td>No</td>\n",
       "      <td>Yes</td>\n",
       "      <td>Yes</td>\n",
       "      <td>Yes</td>\n",
       "      <td>No</td>\n",
       "      <td>+1</td>\n",
       "      <td>62</td>\n",
       "      <td>Every three months</td>\n",
       "      <td>Female</td>\n",
       "      <td>1</td>\n",
       "      <td>0</td>\n",
       "    </tr>\n",
       "    <tr>\n",
       "      <th>3</th>\n",
       "      <td>Yes</td>\n",
       "      <td>Yes</td>\n",
       "      <td>No</td>\n",
       "      <td>Yes</td>\n",
       "      <td>Yes</td>\n",
       "      <td>Yes</td>\n",
       "      <td>Yes</td>\n",
       "      <td>Yes</td>\n",
       "      <td>No</td>\n",
       "      <td>No</td>\n",
       "      <td>Yes</td>\n",
       "      <td>+4</td>\n",
       "      <td>69</td>\n",
       "      <td>Once a week</td>\n",
       "      <td>Female</td>\n",
       "      <td>4</td>\n",
       "      <td>0</td>\n",
       "    </tr>\n",
       "    <tr>\n",
       "      <th>4</th>\n",
       "      <td>No</td>\n",
       "      <td>Yes</td>\n",
       "      <td>No</td>\n",
       "      <td>Yes</td>\n",
       "      <td>Yes</td>\n",
       "      <td>Yes</td>\n",
       "      <td>Yes</td>\n",
       "      <td>No</td>\n",
       "      <td>No</td>\n",
       "      <td>Yes</td>\n",
       "      <td>No</td>\n",
       "      <td>+2</td>\n",
       "      <td>49</td>\n",
       "      <td>Once a month</td>\n",
       "      <td>Male</td>\n",
       "      <td>2</td>\n",
       "      <td>1</td>\n",
       "    </tr>\n",
       "  </tbody>\n",
       "</table>\n",
       "</div>"
      ],
      "text/plain": [
       "  yummy convenient spicy fattening greasy fast cheap tasty expensive healthy  \\\n",
       "0    No        Yes    No       Yes     No  Yes   Yes    No       Yes      No   \n",
       "1   Yes        Yes    No       Yes    Yes  Yes   Yes   Yes       Yes      No   \n",
       "2    No        Yes   Yes       Yes    Yes  Yes    No   Yes       Yes     Yes   \n",
       "3   Yes        Yes    No       Yes    Yes  Yes   Yes   Yes        No      No   \n",
       "4    No        Yes    No       Yes    Yes  Yes   Yes    No        No     Yes   \n",
       "\n",
       "  disgusting Like  Age      VisitFrequency  Gender  Like_n  cluster  \n",
       "0         No   -3   61  Every three months  Female      -3        1  \n",
       "1         No   +2   51  Every three months  Female       2        0  \n",
       "2         No   +1   62  Every three months  Female       1        0  \n",
       "3        Yes   +4   69         Once a week  Female       4        0  \n",
       "4         No   +2   49        Once a month    Male       2        1  "
      ]
     },
     "execution_count": 51,
     "metadata": {},
     "output_type": "execute_result"
    }
   ],
   "source": [
    "df.head()"
   ]
  },
  {
   "cell_type": "code",
   "execution_count": 52,
   "id": "71a7dfd2",
   "metadata": {},
   "outputs": [],
   "source": [
    "like_n = df['Like_n'].values\n",
    "clusters = df['cluster'].values"
   ]
  },
  {
   "cell_type": "code",
   "execution_count": 53,
   "id": "1fae3da6",
   "metadata": {},
   "outputs": [
    {
     "data": {
      "text/plain": [
       "array([-3,  2,  1, ...,  3,  4, -3], dtype=int64)"
      ]
     },
     "execution_count": 53,
     "metadata": {},
     "output_type": "execute_result"
    }
   ],
   "source": [
    "like_n"
   ]
  },
  {
   "cell_type": "code",
   "execution_count": 54,
   "id": "6021f52a",
   "metadata": {},
   "outputs": [
    {
     "name": "stdout",
     "output_type": "stream",
     "text": [
      "              df       sum_sq      mean_sq           F         PR(>F)\n",
      "Cluster      1.0  5652.385816  5652.385816  970.218421  1.556793e-163\n",
      "Residual  1451.0  8453.366421     5.825890         NaN            NaN\n"
     ]
    },
    {
     "name": "stderr",
     "output_type": "stream",
     "text": [
      "C:\\ProgramData\\Anaconda3\\lib\\site-packages\\patsy\\util.py:672: FutureWarning: is_categorical_dtype is deprecated and will be removed in a future version. Use isinstance(dtype, CategoricalDtype) instead\n",
      "  return _pandas_is_categorical_dtype(dt)\n",
      "C:\\ProgramData\\Anaconda3\\lib\\site-packages\\patsy\\util.py:672: FutureWarning: is_categorical_dtype is deprecated and will be removed in a future version. Use isinstance(dtype, CategoricalDtype) instead\n",
      "  return _pandas_is_categorical_dtype(dt)\n",
      "C:\\ProgramData\\Anaconda3\\lib\\site-packages\\patsy\\util.py:672: FutureWarning: is_categorical_dtype is deprecated and will be removed in a future version. Use isinstance(dtype, CategoricalDtype) instead\n",
      "  return _pandas_is_categorical_dtype(dt)\n"
     ]
    }
   ],
   "source": [
    "from statsmodels.formula.api import ols\n",
    "from statsmodels.stats.anova import anova_lm\n",
    "\n",
    "df = pd.DataFrame({'Like_n': like_n, 'Cluster': clusters})\n",
    "model = ols('Like_n ~ Cluster', data=df).fit()\n",
    "anova_results = anova_lm(model)\n",
    "\n",
    "print(anova_results)"
   ]
  },
  {
   "cell_type": "code",
   "execution_count": 56,
   "id": "23f703dc",
   "metadata": {},
   "outputs": [
    {
     "data": {
      "image/png": "[encoded data removed]",
      "text/plain": [
       "<Figure size 1000x500 with 1 Axes>"
      ]
     },
     "metadata": {},
     "output_type": "display_data"
    }
   ],
   "source": [
    "from scipy.spatial.distance import pdist, squareform\n",
    "from scipy.cluster.hierarchy import linkage, dendrogram\n",
    "from sklearn.metrics.cluster import adjusted_rand_score\n",
    "\n",
    "\n",
    "X_2_pca= PCA(n_components=2).fit_transform(X_2_scale)\n",
    "X_2_dist = pdist(X_2_pca)\n",
    "X_2_link = linkage(X_2_dist)\n",
    "plt.figure(figsize=(10, 5))\n",
    "dendrogram(X_2_link, orientation='top', distance_sort='descending',truncate_mode='lastp' ,show_leaf_counts=True)\n",
    "plt.show()"
   ]
  },
  {
   "cell_type": "code",
   "execution_count": 57,
   "id": "6f0f0d14",
   "metadata": {},
   "outputs": [
    {
     "data": {
      "image/png": "[encoded data removed]",
      "text/plain": [
       "<Figure size 1000x500 with 1 Axes>"
      ]
     },
     "metadata": {},
     "output_type": "display_data"
    }
   ],
   "source": [
    "# MD_k4 = GaussianMixture(n_components=4, random_state=1234).fit(MD_x)\n",
    "plt.figure(figsize=(10, 5))\n",
    "plt.scatter(X_2_pca[:, 0], X_2_pca[:, 1])\n",
    "plt.xlabel('principal component 1')\n",
    "plt.ylabel('principal component 2')\n",
    "plt.show()"
   ]
  },
  {
   "cell_type": "code",
   "execution_count": null,
   "id": "0714dbcc",
   "metadata": {},
   "outputs": [],
   "source": [
    "from rpart import DecisionTreeClassifier\n",
    "import matplotlib.pyplot as plt\n",
    "\n",
    "# Define your feature variables (X) and target variable (y)\n",
    "X = X_2.loc['Like':'Gender']\n",
    "y = df['cluster']# Assuming 'k4' is a binary target variable\n",
    "\n",
    "# Define the tree formula\n",
    "tree_formula = \"y ~ Like + Age + VisitFrequency + Gender\"\n",
    "\n",
    "\n",
    "\n",
    "# Create and fit the DecisionTreeClassifier\n",
    "tree = DecisionTreeClassifier(tree_formula)\n",
    "tree.fit(X, y)\n",
    "\n",
    "# Plot the tree\n",
    "tree.plot()\n",
    "plt.show()"
   ]
  }
 ],
 "metadata": {
  "kernelspec": {
   "display_name": "Python 3 (ipykernel)",
   "language": "python",
   "name": "python3"
  },
  "language_info": {
   "codemirror_mode": {
    "name": "ipython",
    "version": 3
   },
   "file_extension": ".py",
   "mimetype": "text/x-python",
   "name": "python",
   "nbconvert_exporter": "python",
   "pygments_lexer": "ipython3",
   "version": "3.9.13"
  },
  "varInspector": {
   "cols": {
    "lenName": 16,
    "lenType": 16,
    "lenVar": 40
   },
   "kernels_config": {
    "python": {
     "delete_cmd_postfix": "",
     "delete_cmd_prefix": "del ",
     "library": "var_list.py",
     "varRefreshCmd": "print(var_dic_list())"
    },
    "r": {
     "delete_cmd_postfix": ") ",
     "delete_cmd_prefix": "rm(",
     "library": "var_list.r",
     "varRefreshCmd": "cat(var_dic_list()) "
    }
   },
   "types_to_exclude": [
    "module",
    "function",
    "builtin_function_or_method",
    "instance",
    "_Feature"
   ],
   "window_display": false
  }
 },
 "nbformat": 4,
 "nbformat_minor": 5
}
